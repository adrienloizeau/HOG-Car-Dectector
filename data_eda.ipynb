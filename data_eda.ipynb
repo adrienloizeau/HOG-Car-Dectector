{
 "cells": [
  {
   "cell_type": "markdown",
   "metadata": {},
   "source": [
    "# Data exploration"
   ]
  },
  {
   "cell_type": "code",
   "execution_count": 3,
   "metadata": {},
   "outputs": [
    {
     "data": {
      "text/html": [
       "<div>\n",
       "<style scoped>\n",
       "    .dataframe tbody tr th:only-of-type {\n",
       "        vertical-align: middle;\n",
       "    }\n",
       "\n",
       "    .dataframe tbody tr th {\n",
       "        vertical-align: top;\n",
       "    }\n",
       "\n",
       "    .dataframe thead th {\n",
       "        text-align: right;\n",
       "    }\n",
       "</style>\n",
       "<table border=\"1\" class=\"dataframe\">\n",
       "  <thead>\n",
       "    <tr style=\"text-align: right;\">\n",
       "      <th></th>\n",
       "      <th>frame_id</th>\n",
       "      <th>bounding_boxes</th>\n",
       "    </tr>\n",
       "  </thead>\n",
       "  <tbody>\n",
       "    <tr>\n",
       "      <th>0</th>\n",
       "      <td>train/A_001.jpg</td>\n",
       "      <td>0 225 214 317 0 172 345 254 285 240 155 131 70...</td>\n",
       "    </tr>\n",
       "    <tr>\n",
       "      <th>1</th>\n",
       "      <td>train/A_002.jpg</td>\n",
       "      <td>0 254 190 293 0 169 338 271 276 238 160 137 70...</td>\n",
       "    </tr>\n",
       "    <tr>\n",
       "      <th>2</th>\n",
       "      <td>train/A_003.jpg</td>\n",
       "      <td>0 306 59 241 0 155 306 318 235 233 191 149 713...</td>\n",
       "    </tr>\n",
       "    <tr>\n",
       "      <th>3</th>\n",
       "      <td>train/A_004.jpg</td>\n",
       "      <td>0 143 239 298 164 223 240 172 721 293 94 76 57...</td>\n",
       "    </tr>\n",
       "    <tr>\n",
       "      <th>4</th>\n",
       "      <td>train/A_005.jpg</td>\n",
       "      <td>0 217 137 270 55 209 323 208 731 296 99 79 573...</td>\n",
       "    </tr>\n",
       "  </tbody>\n",
       "</table>\n",
       "</div>"
      ],
      "text/plain": [
       "          frame_id                                     bounding_boxes\n",
       "0  train/A_001.jpg  0 225 214 317 0 172 345 254 285 240 155 131 70...\n",
       "1  train/A_002.jpg  0 254 190 293 0 169 338 271 276 238 160 137 70...\n",
       "2  train/A_003.jpg  0 306 59 241 0 155 306 318 235 233 191 149 713...\n",
       "3  train/A_004.jpg  0 143 239 298 164 223 240 172 721 293 94 76 57...\n",
       "4  train/A_005.jpg  0 217 137 270 55 209 323 208 731 296 99 79 573..."
      ]
     },
     "execution_count": 3,
     "metadata": {},
     "output_type": "execute_result"
    }
   ],
   "source": [
    "import pandas as pd\n",
    "\n",
    "df_ground_truth = pd.read_csv('./train.csv')\n",
    "df_ground_truth.head()"
   ]
  },
  {
   "cell_type": "code",
   "execution_count": 4,
   "metadata": {},
   "outputs": [
    {
     "name": "stdout",
     "output_type": "stream",
     "text": [
      "length of the bounding boxes of image 0:  200\n",
      "length of the bounding boxes of image 10:  214\n"
     ]
    }
   ],
   "source": [
    "print(\"length of the bounding boxes of image 0: \", len(df_ground_truth[\"bounding_boxes\"][0]))\n",
    "print(\"length of the bounding boxes of image 10: \", len(df_ground_truth[\"bounding_boxes\"][10]))"
   ]
  },
  {
   "cell_type": "markdown",
   "metadata": {},
   "source": [
    "### Algorithmes"
   ]
  },
  {
   "cell_type": "code",
   "execution_count": 5,
   "metadata": {},
   "outputs": [],
   "source": [
    "import os\n",
    "import numpy as np\n",
    "from matplotlib import pyplot as plt\n",
    "import matplotlib.patches as patches\n",
    "from skimage.io import imread\n",
    "\n",
    "\n",
    "H, W = 720, 1280\n",
    "N = len(df_ground_truth)\n",
    "\n",
    "\n",
    "def read_frame(df_annotation, frame):\n",
    "    \"\"\"Read frames and create integer frame_id-s\"\"\"\n",
    "    file_path = df_annotation[df_annotation.index == frame]['frame_id'].values[0]\n",
    "    return imread(file_path)\n",
    "\n",
    "def annotations_for_frame(df_annotation, frame):\n",
    "    assert frame in df_annotation.index\n",
    "    bbs = df_annotation[df_annotation.index == frame].bounding_boxes.values[0]\n",
    "\n",
    "    if pd.isna(bbs): # some frames contain no vehicles\n",
    "        return []\n",
    "\n",
    "    bbs = list(map(lambda x : int(x), bbs.split(' ')))\n",
    "    return np.array_split(bbs, len(bbs) / 4)\n",
    "\n",
    "def show_annotation(df_annotation, frame):\n",
    "    img = read_frame(df_annotation, frame)\n",
    "    bbs = annotations_for_frame(df_annotation, frame)\n",
    "\n",
    "    fig, ax = plt.subplots(figsize=(10, 8))\n",
    "\n",
    "    for x, y, dx, dy in bbs:\n",
    "\n",
    "        rect = patches.Rectangle((x, y), dx, dy, edgecolor='r', facecolor='none')\n",
    "        ax.add_patch(rect)\n",
    "\n",
    "    ax.imshow(img)\n",
    "    ax.set_title('Annotations for frame {}.'.format(frame))\n",
    "\n",
    "def bounding_boxes_to_mask(bounding_boxes, H, W):\n",
    "    \"\"\"\n",
    "    Converts set of bounding boxes to a binary mask\n",
    "    \"\"\"\n",
    "\n",
    "    mask = np.zeros((H, W))\n",
    "    for x, y, dx, dy in bounding_boxes:\n",
    "        mask[y:y+dy, x:x+dx] = 1\n",
    "\n",
    "    return mask\n",
    "\n",
    "def run_length_encoding(mask):\n",
    "\n",
    "    \"\"\"\n",
    "    Produces run length encoding for a given binary mask\n",
    "    \"\"\"\n",
    "\n",
    "    # find mask non-zeros in flattened representation\n",
    "    non_zeros = np.nonzero(mask.flatten())[0]\n",
    "\n",
    "    if len(non_zeros) == 0:\n",
    "        return ''\n",
    "\n",
    "    padded = np.pad(non_zeros, pad_width=1, mode='edge')\n",
    "\n",
    "    # find start and end points of non-zeros runs\n",
    "    limits = (padded[1:] - padded[:-1]) != 1\n",
    "    starts = non_zeros[limits[:-1]]\n",
    "    ends = non_zeros[limits[1:]]\n",
    "    lengths = ends - starts + 1\n",
    "\n",
    "    return ' '.join(['%d %d' % (s, l) for s, l in zip(starts, lengths)])"
   ]
  },
  {
   "cell_type": "code",
   "execution_count": 6,
   "metadata": {},
   "outputs": [
    {
     "name": "stdout",
     "output_type": "stream",
     "text": [
      "#################### image 0 ####################\n",
      "BBS [array([  0, 225, 214, 317]), array([  0, 172, 345, 254]), array([285, 240, 155, 131]), array([706, 294,  84,  67]), array([565, 284,  68,  55]), array([1002,  309,   56,   40]), array([678, 293,  48,  44]), array([478, 278,  32,  31]), array([611, 284,  26,  27]), array([436, 280,  41,  26]), array([938, 295, 102,  45]), array([518, 282,  59,  20]), array([1216,  305,   61,   49]), array([428, 284,  18,  15])]\n",
      "Raw data: 0 225 214 317 0 172 345 254 285 240 155 131 706 294 84 67 565 284 68 55 1002 309 56 40 678 293 48 44 478 278 32 31 611 284 26 27 436 280 41 26 938 295 102 45 518 282 59 20 1216 305 61 49 428 284 18 15\n"
     ]
    }
   ],
   "source": [
    "bbs = annotations_for_frame(df_ground_truth, 0)\n",
    "print(\"#\"*20,\"image 0\",\"#\"*20)\n",
    "print(\"BBS\", bbs)\n",
    "print(\"Raw data:\", df_ground_truth[\"bounding_boxes\"][0])"
   ]
  },
  {
   "cell_type": "markdown",
   "metadata": {},
   "source": [
    "# Scenes "
   ]
  },
  {
   "cell_type": "markdown",
   "metadata": {},
   "source": [
    "Each scene has a duration of 202 frames"
   ]
  },
  {
   "cell_type": "markdown",
   "metadata": {},
   "source": [
    "# Getting empty pictures"
   ]
  },
  {
   "cell_type": "code",
   "execution_count": 10,
   "metadata": {},
   "outputs": [
    {
     "data": {
      "text/plain": [
       "2222"
      ]
     },
     "execution_count": 10,
     "metadata": {},
     "output_type": "execute_result"
    }
   ],
   "source": [
    "path = \"train.csv\"\n",
    "df_ground_truth[\"bounding_boxes\"].isna().count()"
   ]
  },
  {
   "cell_type": "code",
   "execution_count": null,
   "metadata": {},
   "outputs": [],
   "source": []
  }
 ],
 "metadata": {
  "kernelspec": {
   "display_name": "dl",
   "language": "python",
   "name": "dl"
  },
  "language_info": {
   "codemirror_mode": {
    "name": "ipython",
    "version": 3
   },
   "file_extension": ".py",
   "mimetype": "text/x-python",
   "name": "python",
   "nbconvert_exporter": "python",
   "pygments_lexer": "ipython3",
   "version": "3.8.5"
  },
  "orig_nbformat": 4
 },
 "nbformat": 4,
 "nbformat_minor": 2
}

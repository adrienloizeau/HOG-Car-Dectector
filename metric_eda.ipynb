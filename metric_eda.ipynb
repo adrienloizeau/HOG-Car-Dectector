{
 "cells": [
  {
   "cell_type": "markdown",
   "metadata": {},
   "source": [
    "# Dice metric\n",
    "\n",
    "from [stackoverflow](https://stackoverflow.com/questions/31273652/how-to-calculate-dice-coefficient-for-measuring-accuracy-of-image-segmentation-i)"
   ]
  },
  {
   "cell_type": "code",
   "execution_count": 20,
   "metadata": {},
   "outputs": [
    {
     "name": "stdout",
     "output_type": "stream",
     "text": [
      "Dice is:  0.75\n"
     ]
    }
   ],
   "source": [
    "import numpy as np\n",
    "\n",
    "k=1\n",
    "\n",
    "# segmentation\n",
    "seg = np.zeros((100,100), dtype='int')\n",
    "seg[30:70, 30:70] = k\n",
    "\n",
    "# ground truth\n",
    "gt = np.zeros((100,100), dtype='int')\n",
    "gt[30:70, 40:80] = k\n",
    "\n",
    "dice = np.sum(seg[gt==k])*2.0 / (np.sum(seg) + np.sum(gt))\n",
    "print(\"Dice is: \",dice)"
   ]
  },
  {
   "cell_type": "code",
   "execution_count": 21,
   "metadata": {},
   "outputs": [],
   "source": [
    "def dice_metric(segmentation, ground_truth):\n",
    "    return np.sum(seg[gt==k])*2.0 / (np.sum(seg) + np.sum(gt))"
   ]
  },
  {
   "cell_type": "code",
   "execution_count": 22,
   "metadata": {},
   "outputs": [],
   "source": [
    "import os\n",
    "import numpy as np\n",
    "from matplotlib import pyplot as plt\n",
    "import matplotlib.patches as patches\n",
    "from skimage.io import imread\n",
    "\n",
    "\n",
    "H, W = 720, 1280\n",
    "N = len(df_ground_truth)\n",
    "\n",
    "\n",
    "def read_frame(df_annotation, frame):\n",
    "    \"\"\"Read frames and create integer frame_id-s\"\"\"\n",
    "    file_path = df_annotation[df_annotation.index == frame]['frame_id'].values[0]\n",
    "    return imread(file_path)\n",
    "\n",
    "def annotations_for_frame(df_annotation, frame):\n",
    "    assert frame in df_annotation.index\n",
    "    bbs = df_annotation[df_annotation.index == frame].bounding_boxes.values[0]\n",
    "\n",
    "    if pd.isna(bbs): # some frames contain no vehicles\n",
    "        return []\n",
    "\n",
    "    bbs = list(map(lambda x : int(x), bbs.split(' ')))\n",
    "    return np.array_split(bbs, len(bbs) / 4)\n",
    "\n",
    "def show_annotation(df_annotation, frame):\n",
    "    img = read_frame(df_annotation, frame)\n",
    "    bbs = annotations_for_frame(df_annotation, frame)\n",
    "\n",
    "    fig, ax = plt.subplots(figsize=(10, 8))\n",
    "\n",
    "    for x, y, dx, dy in bbs:\n",
    "\n",
    "        rect = patches.Rectangle((x, y), dx, dy, edgecolor='r', facecolor='none')\n",
    "        ax.add_patch(rect)\n",
    "\n",
    "    ax.imshow(img)\n",
    "    ax.set_title('Annotations for frame {}.'.format(frame))\n",
    "\n",
    "def bounding_boxes_to_mask(bounding_boxes, H, W):\n",
    "    \"\"\"\n",
    "    Converts set of bounding boxes to a binary mask\n",
    "    \"\"\"\n",
    "\n",
    "    mask = np.zeros((H, W))\n",
    "    for x, y, dx, dy in bounding_boxes:\n",
    "        mask[y:y+dy, x:x+dx] = 1\n",
    "\n",
    "    return mask\n",
    "\n",
    "def run_length_encoding(mask):\n",
    "\n",
    "    \"\"\"\n",
    "    Produces run length encoding for a given binary mask\n",
    "    \"\"\"\n",
    "\n",
    "    # find mask non-zeros in flattened representation\n",
    "    non_zeros = np.nonzero(mask.flatten())[0]\n",
    "\n",
    "    if len(non_zeros) == 0:\n",
    "        return ''\n",
    "\n",
    "    padded = np.pad(non_zeros, pad_width=1, mode='edge')\n",
    "\n",
    "    # find start and end points of non-zeros runs\n",
    "    limits = (padded[1:] - padded[:-1]) != 1\n",
    "    starts = non_zeros[limits[:-1]]\n",
    "    ends = non_zeros[limits[1:]]\n",
    "    lengths = ends - starts + 1\n",
    "\n",
    "    return ' '.join(['%d %d' % (s, l) for s, l in zip(starts, lengths)])\n",
    "\n",
    "bbs = annotations_for_frame(df_ground_truth, 0)"
   ]
  },
  {
   "cell_type": "markdown",
   "metadata": {},
   "source": [
    "Testing on the ground truth"
   ]
  },
  {
   "cell_type": "code",
   "execution_count": 23,
   "metadata": {},
   "outputs": [
    {
     "data": {
      "text/plain": [
       "0.75"
      ]
     },
     "execution_count": 23,
     "metadata": {},
     "output_type": "execute_result"
    }
   ],
   "source": [
    "import pandas as pd\n",
    "\n",
    "df_ground_truth = pd.read_csv('./train.csv')\n",
    "dice_metric(bbs,bbs)"
   ]
  },
  {
   "cell_type": "markdown",
   "metadata": {},
   "source": [
    "False result"
   ]
  },
  {
   "cell_type": "markdown",
   "metadata": {},
   "source": [
    "### Dice from pytorch"
   ]
  },
  {
   "cell_type": "code",
   "execution_count": 24,
   "metadata": {},
   "outputs": [
    {
     "name": "stdout",
     "output_type": "stream",
     "text": [
      "Dice is :  tensor(1.)\n"
     ]
    }
   ],
   "source": [
    "from torchmetrics.functional import dice\n",
    "import torch\n",
    "\n",
    "dice_result = dice(torch.tensor(bbs),torch.tensor(bbs))\n",
    "print(\"Dice is : \",dice_result)"
   ]
  }
 ],
 "metadata": {
  "kernelspec": {
   "display_name": "dl",
   "language": "python",
   "name": "dl"
  },
  "language_info": {
   "codemirror_mode": {
    "name": "ipython",
    "version": 3
   },
   "file_extension": ".py",
   "mimetype": "text/x-python",
   "name": "python",
   "nbconvert_exporter": "python",
   "pygments_lexer": "ipython3",
   "version": "3.8.5"
  },
  "orig_nbformat": 4
 },
 "nbformat": 4,
 "nbformat_minor": 2
}
